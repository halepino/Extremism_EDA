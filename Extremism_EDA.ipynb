{
 "cells": [
  {
   "cell_type": "markdown",
   "id": "444b75bf",
   "metadata": {},
   "source": [
    "# Final Project: EDA of Extremism\n",
    "\n",
    "### Course: DSC 530  \n",
    "### Author: Figueroa, Holly  \n",
    "### Objective: EDA on variables from Skoczylis, Joshua, 2021, \"Extremism, Life Experiences and the Internet\" "
   ]
  },
  {
   "cell_type": "code",
   "execution_count": 50,
   "id": "c132c96a",
   "metadata": {},
   "outputs": [],
   "source": [
    "from __future__ import print_function, division\n",
    "import statsmodels.formula.api as smf\n",
    "import pandas as pd\n",
    "import seaborn as sns\n",
    "import numpy as np\n",
    "import analytic\n",
    "import random\n",
    "import thinkstats2\n",
    "import thinkplot\n",
    "import scipy.stats as stats\n",
    "import warnings\n",
    "warnings.simplefilter(action='ignore', category=FutureWarning)"
   ]
  },
  {
   "cell_type": "code",
   "execution_count": 2,
   "id": "50388d8b",
   "metadata": {
    "scrolled": false
   },
   "outputs": [],
   "source": [
    "#Read file into df\n",
    "complete_df = pd.read_csv('ExtremismDataset2.0.csv')\n",
    "complete_df = pd.DataFrame(complete_df)"
   ]
  },
  {
   "cell_type": "code",
   "execution_count": 3,
   "id": "fc0a8413",
   "metadata": {},
   "outputs": [],
   "source": [
    "# Choose columns to include\n",
    "select_df1 = complete_df.iloc[ : , 0:19]\n",
    "select_df2 = complete_df.iloc[ : , 370:380]"
   ]
  },
  {
   "cell_type": "code",
   "execution_count": 4,
   "id": "11a1f564",
   "metadata": {},
   "outputs": [
    {
     "data": {
      "text/plain": [
       "(2552, 2552, 2552)"
      ]
     },
     "execution_count": 4,
     "metadata": {},
     "output_type": "execute_result"
    }
   ],
   "source": [
    "#Check Row lengths match\n",
    "len(complete_df), len(select_df1), len(select_df2)"
   ]
  },
  {
   "cell_type": "code",
   "execution_count": 5,
   "id": "eccd4079",
   "metadata": {},
   "outputs": [
    {
     "data": {
      "text/plain": [
       "2552"
      ]
     },
     "execution_count": 5,
     "metadata": {},
     "output_type": "execute_result"
    }
   ],
   "source": [
    "#Join dfs of chosen columns & validate length\n",
    "combined_df = select_df1.join(select_df2)\n",
    "len(combined_df)"
   ]
  },
  {
   "cell_type": "code",
   "execution_count": 6,
   "id": "89c6f889",
   "metadata": {
    "scrolled": true
   },
   "outputs": [
    {
     "name": "stdout",
     "output_type": "stream",
     "text": [
      "0 Index\n",
      "1 Progress\n",
      "2 Age\n",
      "3 HouseoldIncome\n",
      "4 Household_Dependents\n",
      "5 Gender_2\n",
      "6 Gender\n",
      "7 UK_Resident\n",
      "8 Ethnicity\n",
      "9 Ethnicity_selfDefined\n",
      "10 Religious_Affilation\n",
      "11 Relationship_Status\n",
      "12 Socio-economic_Status\n",
      "13 Living_Arrangments\n",
      "14 Houseold_Debt_in_Thousand_of_£\n",
      "15 Highest_Qualification\n",
      "16 Occupation_Qualitative\n",
      "17 Postcode\n",
      "18 City\n",
      "19 SocialMedia_Use\n",
      "20 Extremism_ScorePCA\n",
      "21 Extermism_scoreScaled\n",
      "22 Strain_Resilience_score\n",
      "23 Strain_Score\n",
      "24 Resilience_score\n",
      "25 Confidence_inSelf\n",
      "26 Political_Engagment\n",
      "27 Political_LeaningRight_Left\n",
      "28 Racism_scale\n"
     ]
    }
   ],
   "source": [
    "# Iterate through columns to get index names for easier data prep/narrowing for project\n",
    "\n",
    "for col in combined_df.columns:\n",
    "    index_no = combined_df.columns.get_loc(col)\n",
    "    print(index_no , col)"
   ]
  },
  {
   "cell_type": "code",
   "execution_count": 7,
   "id": "1f13f210",
   "metadata": {},
   "outputs": [],
   "source": [
    "# Narrow down columns to include for analysis\n",
    "combined_df = combined_df.iloc[ :,[2,6,10,19,21,27,28]]\n"
   ]
  },
  {
   "cell_type": "code",
   "execution_count": 8,
   "id": "cf52d067",
   "metadata": {},
   "outputs": [
    {
     "data": {
      "text/plain": [
       "2552"
      ]
     },
     "execution_count": 8,
     "metadata": {},
     "output_type": "execute_result"
    }
   ],
   "source": [
    "# Re-validate length\n",
    "len(combined_df)"
   ]
  },
  {
   "cell_type": "code",
   "execution_count": 9,
   "id": "56fddc60",
   "metadata": {
    "scrolled": true
   },
   "outputs": [
    {
     "name": "stdout",
     "output_type": "stream",
     "text": [
      "0 Age\n",
      "1 Gender\n",
      "2 Religious_Affilation\n",
      "3 SocialMedia_Use\n",
      "4 Extermism_scoreScaled\n",
      "5 Political_LeaningRight_Left\n",
      "6 Racism_scale\n"
     ]
    }
   ],
   "source": [
    "# Iterate through columsn to get index and column names again\n",
    "for col in combined_df.columns:\n",
    "    index_no = combined_df.columns.get_loc(col)\n",
    "    print(index_no , col)"
   ]
  },
  {
   "cell_type": "code",
   "execution_count": 10,
   "id": "9cfe1961",
   "metadata": {},
   "outputs": [
    {
     "data": {
      "text/html": [
       "<div>\n",
       "<style scoped>\n",
       "    .dataframe tbody tr th:only-of-type {\n",
       "        vertical-align: middle;\n",
       "    }\n",
       "\n",
       "    .dataframe tbody tr th {\n",
       "        vertical-align: top;\n",
       "    }\n",
       "\n",
       "    .dataframe thead th {\n",
       "        text-align: right;\n",
       "    }\n",
       "</style>\n",
       "<table border=\"1\" class=\"dataframe\">\n",
       "  <thead>\n",
       "    <tr style=\"text-align: right;\">\n",
       "      <th></th>\n",
       "      <th>Age</th>\n",
       "      <th>Gender</th>\n",
       "      <th>Religious_Affilation</th>\n",
       "      <th>SocialMedia_Use</th>\n",
       "      <th>Extermism_scoreScaled</th>\n",
       "      <th>Political_LeaningRight_Left</th>\n",
       "      <th>Racism_scale</th>\n",
       "    </tr>\n",
       "  </thead>\n",
       "  <tbody>\n",
       "    <tr>\n",
       "      <th>Age</th>\n",
       "      <td>1.000000</td>\n",
       "      <td>0.119521</td>\n",
       "      <td>-0.150121</td>\n",
       "      <td>-0.126497</td>\n",
       "      <td>-0.181523</td>\n",
       "      <td>-0.131424</td>\n",
       "      <td>0.013147</td>\n",
       "    </tr>\n",
       "    <tr>\n",
       "      <th>Gender</th>\n",
       "      <td>0.119521</td>\n",
       "      <td>1.000000</td>\n",
       "      <td>-0.018694</td>\n",
       "      <td>-0.035427</td>\n",
       "      <td>-0.215532</td>\n",
       "      <td>0.146910</td>\n",
       "      <td>0.131347</td>\n",
       "    </tr>\n",
       "    <tr>\n",
       "      <th>Religious_Affilation</th>\n",
       "      <td>-0.150121</td>\n",
       "      <td>-0.018694</td>\n",
       "      <td>1.000000</td>\n",
       "      <td>0.036402</td>\n",
       "      <td>0.047961</td>\n",
       "      <td>0.268064</td>\n",
       "      <td>0.197412</td>\n",
       "    </tr>\n",
       "    <tr>\n",
       "      <th>SocialMedia_Use</th>\n",
       "      <td>-0.126497</td>\n",
       "      <td>-0.035427</td>\n",
       "      <td>0.036402</td>\n",
       "      <td>1.000000</td>\n",
       "      <td>0.123187</td>\n",
       "      <td>0.082792</td>\n",
       "      <td>-0.004479</td>\n",
       "    </tr>\n",
       "    <tr>\n",
       "      <th>Extermism_scoreScaled</th>\n",
       "      <td>-0.181523</td>\n",
       "      <td>-0.215532</td>\n",
       "      <td>0.047961</td>\n",
       "      <td>0.123187</td>\n",
       "      <td>1.000000</td>\n",
       "      <td>-0.181616</td>\n",
       "      <td>-0.266799</td>\n",
       "    </tr>\n",
       "    <tr>\n",
       "      <th>Political_LeaningRight_Left</th>\n",
       "      <td>-0.131424</td>\n",
       "      <td>0.146910</td>\n",
       "      <td>0.268064</td>\n",
       "      <td>0.082792</td>\n",
       "      <td>-0.181616</td>\n",
       "      <td>1.000000</td>\n",
       "      <td>0.627832</td>\n",
       "    </tr>\n",
       "    <tr>\n",
       "      <th>Racism_scale</th>\n",
       "      <td>0.013147</td>\n",
       "      <td>0.131347</td>\n",
       "      <td>0.197412</td>\n",
       "      <td>-0.004479</td>\n",
       "      <td>-0.266799</td>\n",
       "      <td>0.627832</td>\n",
       "      <td>1.000000</td>\n",
       "    </tr>\n",
       "  </tbody>\n",
       "</table>\n",
       "</div>"
      ],
      "text/plain": [
       "                                  Age    Gender  Religious_Affilation  \\\n",
       "Age                          1.000000  0.119521             -0.150121   \n",
       "Gender                       0.119521  1.000000             -0.018694   \n",
       "Religious_Affilation        -0.150121 -0.018694              1.000000   \n",
       "SocialMedia_Use             -0.126497 -0.035427              0.036402   \n",
       "Extermism_scoreScaled       -0.181523 -0.215532              0.047961   \n",
       "Political_LeaningRight_Left -0.131424  0.146910              0.268064   \n",
       "Racism_scale                 0.013147  0.131347              0.197412   \n",
       "\n",
       "                             SocialMedia_Use  Extermism_scoreScaled  \\\n",
       "Age                                -0.126497              -0.181523   \n",
       "Gender                             -0.035427              -0.215532   \n",
       "Religious_Affilation                0.036402               0.047961   \n",
       "SocialMedia_Use                     1.000000               0.123187   \n",
       "Extermism_scoreScaled               0.123187               1.000000   \n",
       "Political_LeaningRight_Left         0.082792              -0.181616   \n",
       "Racism_scale                       -0.004479              -0.266799   \n",
       "\n",
       "                             Political_LeaningRight_Left  Racism_scale  \n",
       "Age                                            -0.131424      0.013147  \n",
       "Gender                                          0.146910      0.131347  \n",
       "Religious_Affilation                            0.268064      0.197412  \n",
       "SocialMedia_Use                                 0.082792     -0.004479  \n",
       "Extermism_scoreScaled                          -0.181616     -0.266799  \n",
       "Political_LeaningRight_Left                     1.000000      0.627832  \n",
       "Racism_scale                                    0.627832      1.000000  "
      ]
     },
     "execution_count": 10,
     "metadata": {},
     "output_type": "execute_result"
    }
   ],
   "source": [
    "# Correlation Matrix for quick review of potential relationships for further analysis\n",
    "combined_df.corr()"
   ]
  },
  {
   "cell_type": "markdown",
   "id": "63d084ea",
   "metadata": {},
   "source": [
    "## Variable Summaries  "
   ]
  },
  {
   "cell_type": "code",
   "execution_count": 11,
   "id": "624469f4",
   "metadata": {},
   "outputs": [
    {
     "data": {
      "text/html": [
       "<div>\n",
       "<style scoped>\n",
       "    .dataframe tbody tr th:only-of-type {\n",
       "        vertical-align: middle;\n",
       "    }\n",
       "\n",
       "    .dataframe tbody tr th {\n",
       "        vertical-align: top;\n",
       "    }\n",
       "\n",
       "    .dataframe thead th {\n",
       "        text-align: right;\n",
       "    }\n",
       "</style>\n",
       "<table border=\"1\" class=\"dataframe\">\n",
       "  <thead>\n",
       "    <tr style=\"text-align: right;\">\n",
       "      <th></th>\n",
       "      <th>Age</th>\n",
       "      <th>Gender</th>\n",
       "      <th>Religious_Affilation</th>\n",
       "      <th>SocialMedia_Use</th>\n",
       "      <th>Extermism_scoreScaled</th>\n",
       "      <th>Political_LeaningRight_Left</th>\n",
       "      <th>Racism_scale</th>\n",
       "    </tr>\n",
       "  </thead>\n",
       "  <tbody>\n",
       "    <tr>\n",
       "      <th>count</th>\n",
       "      <td>1800.000000</td>\n",
       "      <td>2534.000000</td>\n",
       "      <td>2549.000000</td>\n",
       "      <td>2342.000000</td>\n",
       "      <td>2333.000000</td>\n",
       "      <td>2383.000000</td>\n",
       "      <td>2525.000000</td>\n",
       "    </tr>\n",
       "    <tr>\n",
       "      <th>mean</th>\n",
       "      <td>50.266111</td>\n",
       "      <td>0.340963</td>\n",
       "      <td>1.235779</td>\n",
       "      <td>-0.000580</td>\n",
       "      <td>0.806723</td>\n",
       "      <td>0.002441</td>\n",
       "      <td>0.001179</td>\n",
       "    </tr>\n",
       "    <tr>\n",
       "      <th>std</th>\n",
       "      <td>16.490797</td>\n",
       "      <td>0.474126</td>\n",
       "      <td>1.197410</td>\n",
       "      <td>1.002803</td>\n",
       "      <td>1.402327</td>\n",
       "      <td>0.998769</td>\n",
       "      <td>0.998958</td>\n",
       "    </tr>\n",
       "    <tr>\n",
       "      <th>min</th>\n",
       "      <td>5.000000</td>\n",
       "      <td>0.000000</td>\n",
       "      <td>0.000000</td>\n",
       "      <td>-1.402474</td>\n",
       "      <td>0.000000</td>\n",
       "      <td>-2.821735</td>\n",
       "      <td>-3.314837</td>\n",
       "    </tr>\n",
       "    <tr>\n",
       "      <th>25%</th>\n",
       "      <td>38.000000</td>\n",
       "      <td>0.000000</td>\n",
       "      <td>0.000000</td>\n",
       "      <td>-0.688714</td>\n",
       "      <td>0.000000</td>\n",
       "      <td>-0.786440</td>\n",
       "      <td>-0.532733</td>\n",
       "    </tr>\n",
       "    <tr>\n",
       "      <th>50%</th>\n",
       "      <td>55.000000</td>\n",
       "      <td>0.000000</td>\n",
       "      <td>2.000000</td>\n",
       "      <td>-0.212874</td>\n",
       "      <td>0.000000</td>\n",
       "      <td>0.098471</td>\n",
       "      <td>0.262154</td>\n",
       "    </tr>\n",
       "    <tr>\n",
       "      <th>75%</th>\n",
       "      <td>63.000000</td>\n",
       "      <td>1.000000</td>\n",
       "      <td>2.000000</td>\n",
       "      <td>0.500885</td>\n",
       "      <td>1.023645</td>\n",
       "      <td>0.806400</td>\n",
       "      <td>0.659597</td>\n",
       "    </tr>\n",
       "    <tr>\n",
       "      <th>max</th>\n",
       "      <td>85.000000</td>\n",
       "      <td>1.000000</td>\n",
       "      <td>5.000000</td>\n",
       "      <td>7.103162</td>\n",
       "      <td>9.000000</td>\n",
       "      <td>2.310748</td>\n",
       "      <td>1.057040</td>\n",
       "    </tr>\n",
       "  </tbody>\n",
       "</table>\n",
       "</div>"
      ],
      "text/plain": [
       "               Age       Gender  Religious_Affilation  SocialMedia_Use  \\\n",
       "count  1800.000000  2534.000000           2549.000000      2342.000000   \n",
       "mean     50.266111     0.340963              1.235779        -0.000580   \n",
       "std      16.490797     0.474126              1.197410         1.002803   \n",
       "min       5.000000     0.000000              0.000000        -1.402474   \n",
       "25%      38.000000     0.000000              0.000000        -0.688714   \n",
       "50%      55.000000     0.000000              2.000000        -0.212874   \n",
       "75%      63.000000     1.000000              2.000000         0.500885   \n",
       "max      85.000000     1.000000              5.000000         7.103162   \n",
       "\n",
       "       Extermism_scoreScaled  Political_LeaningRight_Left  Racism_scale  \n",
       "count            2333.000000                  2383.000000   2525.000000  \n",
       "mean                0.806723                     0.002441      0.001179  \n",
       "std                 1.402327                     0.998769      0.998958  \n",
       "min                 0.000000                    -2.821735     -3.314837  \n",
       "25%                 0.000000                    -0.786440     -0.532733  \n",
       "50%                 0.000000                     0.098471      0.262154  \n",
       "75%                 1.023645                     0.806400      0.659597  \n",
       "max                 9.000000                     2.310748      1.057040  "
      ]
     },
     "execution_count": 11,
     "metadata": {},
     "output_type": "execute_result"
    }
   ],
   "source": [
    "# Review quick summaries for familiarity\n",
    "combined_df.describe()"
   ]
  },
  {
   "cell_type": "markdown",
   "id": "e4284efd",
   "metadata": {},
   "source": [
    "## Histograms, Cleaning/Explain Outliers Handling, Mean, Mode, Spread, and Tails"
   ]
  },
  {
   "cell_type": "markdown",
   "id": "b6ef3250",
   "metadata": {},
   "source": [
    "### Age  Summary\n",
    "The histogram for age shows a negatively skewed, bi-modal distribution where a greater proprotion of participants were aged under 25, and and even greater proportion aged between 50 and 70 years old. An outlier for AGE appears to have a respondent at age 5, but source documents state only those 16 or older we're allowed to participate. Will adjust code to include ages 16 or older. \n",
    "\n",
    "* Continuous variable\n",
    "* Bimodal\n",
    "* Moderate negative skew (-0.53)\n",
    "* Mean age 50\n",
    "* Age range 16-85 years old\n",
    "* One outlier - 5yr old participant - likely a typo (removed)\n"
   ]
  },
  {
   "cell_type": "code",
   "execution_count": 12,
   "id": "d7e5f652",
   "metadata": {},
   "outputs": [
    {
     "data": {
      "text/plain": [
       "<Axes: xlabel='Age', ylabel='Count'>"
      ]
     },
     "execution_count": 12,
     "metadata": {},
     "output_type": "execute_result"
    },
    {
     "data": {
      "image/png": "[encoded data removed]",
      "text/plain": [
       "<Figure size 640x480 with 1 Axes>"
      ]
     },
     "metadata": {},
     "output_type": "display_data"
    }
   ],
   "source": [
    "# Create histogram\n",
    "sns.histplot(data=combined_df, x= combined_df['Age'], bins =20)"
   ]
  },
  {
   "cell_type": "code",
   "execution_count": 13,
   "id": "eb9baa86",
   "metadata": {},
   "outputs": [
    {
     "data": {
      "text/plain": [
       "<Axes: xlabel='Age', ylabel='Count'>"
      ]
     },
     "execution_count": 13,
     "metadata": {},
     "output_type": "execute_result"
    },
    {
     "data": {
      "image/png": "[encoded data removed]",
      "text/plain": [
       "<Figure size 640x480 with 1 Axes>"
      ]
     },
     "metadata": {},
     "output_type": "display_data"
    }
   ],
   "source": [
    "# Remove what appear to be age value errors - ages under 16\n",
    "combined_df = combined_df[combined_df.Age > 15]\n",
    "sns.histplot(data=combined_df, x= combined_df['Age'], bins = 20)"
   ]
  },
  {
   "cell_type": "code",
   "execution_count": 14,
   "id": "42dfc771",
   "metadata": {},
   "outputs": [
    {
     "data": {
      "text/plain": [
       "count    1799.000000\n",
       "mean       50.291273\n",
       "std        16.460783\n",
       "min        16.000000\n",
       "25%        38.500000\n",
       "50%        55.000000\n",
       "75%        63.000000\n",
       "max        85.000000\n",
       "Name: Age, dtype: float64"
      ]
     },
     "execution_count": 14,
     "metadata": {},
     "output_type": "execute_result"
    }
   ],
   "source": [
    "# Get Central Measures for Age\n",
    "age = combined_df['Age']\n",
    "\n",
    "age.describe()"
   ]
  },
  {
   "cell_type": "code",
   "execution_count": 15,
   "id": "47b37a07",
   "metadata": {},
   "outputs": [
    {
     "data": {
      "text/plain": [
       "0    57.0\n",
       "Name: Age, dtype: float64"
      ]
     },
     "execution_count": 15,
     "metadata": {},
     "output_type": "execute_result"
    }
   ],
   "source": [
    "age.mode()"
   ]
  },
  {
   "cell_type": "code",
   "execution_count": 16,
   "id": "0d1c267a",
   "metadata": {},
   "outputs": [
    {
     "data": {
      "text/plain": [
       "-0.5398928968642979"
      ]
     },
     "execution_count": 16,
     "metadata": {},
     "output_type": "execute_result"
    }
   ],
   "source": [
    "age.skew()"
   ]
  },
  {
   "cell_type": "markdown",
   "id": "6e0e3d51",
   "metadata": {},
   "source": [
    "### Gender Summary\n",
    "\n",
    "* Nominal variable coded 0-1 (male/female)\n",
    "* Almost 2x more male participants than female\n",
    "* 1784 total\n"
   ]
  },
  {
   "cell_type": "code",
   "execution_count": 17,
   "id": "8d28eaee",
   "metadata": {},
   "outputs": [
    {
     "data": {
      "text/plain": [
       "<Axes: >"
      ]
     },
     "execution_count": 17,
     "metadata": {},
     "output_type": "execute_result"
    },
    {
     "data": {
      "image/png": "[encoded data removed]",
      "text/plain": [
       "<Figure size 640x480 with 1 Axes>"
      ]
     },
     "metadata": {},
     "output_type": "display_data"
    }
   ],
   "source": [
    "#Mak gender variable and make plot of counts\n",
    "gender = combined_df['Gender']\n",
    "\n",
    "gender.value_counts().plot(kind='bar')"
   ]
  },
  {
   "cell_type": "code",
   "execution_count": 18,
   "id": "03f593f0",
   "metadata": {
    "scrolled": true
   },
   "outputs": [
    {
     "data": {
      "text/plain": [
       "0.0    1130\n",
       "1.0     654\n",
       "Name: Gender, dtype: int64"
      ]
     },
     "execution_count": 18,
     "metadata": {},
     "output_type": "execute_result"
    }
   ],
   "source": [
    "gender.value_counts()"
   ]
  },
  {
   "cell_type": "markdown",
   "id": "2812723c",
   "metadata": {},
   "source": [
    "### Religious Affiliation Summary\n",
    "\n",
    "0 = Christian          (753)  \n",
    "1 = Buddhist           (9)  \n",
    "2 = I am not religious (964)  \n",
    "3 = Jewish             (17)  \n",
    "4 = Muslim             (8)  \n",
    "5 = Other              (47)  \n",
    "\n",
    "\n",
    "* Nominal variable\n",
    "* 2255 total responses\n",
    "* 76% responded either 'I am not religious' or 'Christian'\n",
    "* Mode response 'I am not religous\" \n",
    "* <50 count for all other responses"
   ]
  },
  {
   "cell_type": "code",
   "execution_count": 19,
   "id": "433593dc",
   "metadata": {},
   "outputs": [
    {
     "name": "stdout",
     "output_type": "stream",
     "text": [
      "Index(['Age', 'Gender', 'Religious_Affilation', 'SocialMedia_Use',\n",
      "       'Extermism_scoreScaled', 'Political_LeaningRight_Left', 'Racism_scale'],\n",
      "      dtype='object')\n"
     ]
    }
   ],
   "source": [
    "#Check column spelling\n",
    "print(combined_df.columns)"
   ]
  },
  {
   "cell_type": "code",
   "execution_count": 20,
   "id": "616afcf0",
   "metadata": {},
   "outputs": [
    {
     "data": {
      "text/plain": [
       "<Axes: >"
      ]
     },
     "execution_count": 20,
     "metadata": {},
     "output_type": "execute_result"
    },
    {
     "data": {
      "image/png": "[encoded data removed]",
      "text/plain": [
       "<Figure size 640x480 with 1 Axes>"
      ]
     },
     "metadata": {},
     "output_type": "display_data"
    }
   ],
   "source": [
    "# Plot Response Codes for Religious Affiliation\n",
    "combined_df['Religious_Affilation'].value_counts().plot(kind='bar')"
   ]
  },
  {
   "cell_type": "code",
   "execution_count": 21,
   "id": "914002ae",
   "metadata": {},
   "outputs": [
    {
     "data": {
      "text/plain": [
       "2.0    964\n",
       "0.0    753\n",
       "5.0     47\n",
       "3.0     17\n",
       "1.0      9\n",
       "4.0      8\n",
       "Name: Religious_Affilation, dtype: int64"
      ]
     },
     "execution_count": 21,
     "metadata": {},
     "output_type": "execute_result"
    }
   ],
   "source": [
    "# Value Counts for each response\n",
    "combined_df['Religious_Affilation'].value_counts()"
   ]
  },
  {
   "cell_type": "code",
   "execution_count": 22,
   "id": "dd0f1c2b",
   "metadata": {},
   "outputs": [
    {
     "data": {
      "text/plain": [
       "2255.0"
      ]
     },
     "execution_count": 22,
     "metadata": {},
     "output_type": "execute_result"
    }
   ],
   "source": [
    "# Get total\n",
    "combined_df['Religious_Affilation'].sum()"
   ]
  },
  {
   "cell_type": "code",
   "execution_count": 23,
   "id": "867b3fa5",
   "metadata": {},
   "outputs": [
    {
     "data": {
      "text/plain": [
       "76.14190687361419"
      ]
     },
     "execution_count": 23,
     "metadata": {},
     "output_type": "execute_result"
    }
   ],
   "source": [
    "# Get percentage that 2 highest responses take of the total\n",
    "(964+753)/2255 *100"
   ]
  },
  {
   "cell_type": "markdown",
   "id": "32c30384",
   "metadata": {},
   "source": [
    "### Social Media Use Score Summary\n",
    "Sum score based on likert survey results asking abotu social media use of a variety of platforms. Sum scores were then standardized. Lower values indicating no use or never using social media type. This distribution has a strong positive skew which was measured at 1.53. The sharp peak and long tail is also reflected in the high measure for kurtosis at 3.92, with strong leptokurtic shape with a long tail. The average of 0.02 suggests that majority of those interviewed either rarely or never used social media. A couple of outliers suggest a few used it extensively. These outliers will be kept in place, as these are unlikely to be in error. \n",
    "\n",
    "* Continuous variable ranging from 'never use' (low) to 'always use' (high)\n",
    "* High positive skew (1.53)\n",
    "* Leptokurtic (kurt = 3.92)\n",
    "* Range -1.4 to 7.1 \n",
    "* 75% of values are under 1\n",
    "* Mode - 0.33\n",
    "* Mean 0.02\n",
    "* Median 0.21"
   ]
  },
  {
   "cell_type": "code",
   "execution_count": 24,
   "id": "76d60b44",
   "metadata": {},
   "outputs": [
    {
     "data": {
      "text/plain": [
       "<Axes: xlabel='SocialMedia_Use', ylabel='Count'>"
      ]
     },
     "execution_count": 24,
     "metadata": {},
     "output_type": "execute_result"
    },
    {
     "data": {
      "image/png": "[encoded data removed]",
      "text/plain": [
       "<Figure size 640x480 with 1 Axes>"
      ]
     },
     "metadata": {},
     "output_type": "display_data"
    }
   ],
   "source": [
    "social = combined_df['SocialMedia_Use']\n",
    "\n",
    "# Create histogram\n",
    "sns.histplot(data=combined_df, x= social, bins =20)"
   ]
  },
  {
   "cell_type": "code",
   "execution_count": 25,
   "id": "b016f6db",
   "metadata": {},
   "outputs": [
    {
     "data": {
      "text/plain": [
       "count    1658.000000\n",
       "mean        0.028812\n",
       "std         1.045180\n",
       "min        -1.402474\n",
       "25%        -0.688714\n",
       "50%        -0.212874\n",
       "75%         0.500885\n",
       "max         7.103162\n",
       "Name: SocialMedia_Use, dtype: float64"
      ]
     },
     "execution_count": 25,
     "metadata": {},
     "output_type": "execute_result"
    }
   ],
   "source": [
    "social.describe()"
   ]
  },
  {
   "cell_type": "code",
   "execution_count": 26,
   "id": "6a90f012",
   "metadata": {},
   "outputs": [
    {
     "data": {
      "text/plain": [
       "0   -0.331834\n",
       "Name: SocialMedia_Use, dtype: float64"
      ]
     },
     "execution_count": 26,
     "metadata": {},
     "output_type": "execute_result"
    }
   ],
   "source": [
    "social.mode()"
   ]
  },
  {
   "cell_type": "code",
   "execution_count": 27,
   "id": "34ea4ffa",
   "metadata": {},
   "outputs": [
    {
     "data": {
      "text/plain": [
       "-0.212874344"
      ]
     },
     "execution_count": 27,
     "metadata": {},
     "output_type": "execute_result"
    }
   ],
   "source": [
    "social.median()"
   ]
  },
  {
   "cell_type": "code",
   "execution_count": 28,
   "id": "b9ad176f",
   "metadata": {},
   "outputs": [
    {
     "data": {
      "text/plain": [
       "(1.5256000489382344, 3.924979154504209)"
      ]
     },
     "execution_count": 28,
     "metadata": {},
     "output_type": "execute_result"
    }
   ],
   "source": [
    "social.skew(), social.kurt()"
   ]
  },
  {
   "cell_type": "markdown",
   "id": "28873789",
   "metadata": {},
   "source": [
    "### Political Leanings Summary\n",
    "The distribution for political leanings appears bimodal, a feature that may be expected of a variable known to be \"polarized\". There are two peaks, or modes, the tallest around .08, then another around -1.0. There are no clear outliers.\n",
    "\n",
    "* Continuous varible ranging low (right of center) to high (left of center)\n",
    "* Bimodal distribution\n",
    "* Standardized scores based on likert responses regarding political views\n",
    "* Score range -2.82 to 2.31"
   ]
  },
  {
   "cell_type": "code",
   "execution_count": 29,
   "id": "19919218",
   "metadata": {},
   "outputs": [
    {
     "data": {
      "text/plain": [
       "<Axes: xlabel='Political_LeaningRight_Left', ylabel='Count'>"
      ]
     },
     "execution_count": 29,
     "metadata": {},
     "output_type": "execute_result"
    },
    {
     "data": {
      "image/png": "[encoded data removed]",
      "text/plain": [
       "<Figure size 640x480 with 1 Axes>"
      ]
     },
     "metadata": {},
     "output_type": "display_data"
    }
   ],
   "source": [
    "politics = combined_df['Political_LeaningRight_Left']\n",
    "\n",
    "sns.histplot(data=combined_df, x= politics, bins =20)"
   ]
  },
  {
   "cell_type": "code",
   "execution_count": 30,
   "id": "002fcebc",
   "metadata": {},
   "outputs": [
    {
     "data": {
      "text/plain": [
       "count    1694.000000\n",
       "mean        0.045397\n",
       "std         0.995005\n",
       "min        -2.821735\n",
       "25%        -0.786440\n",
       "50%         0.098471\n",
       "75%         0.872768\n",
       "max         2.310748\n",
       "Name: Political_LeaningRight_Left, dtype: float64"
      ]
     },
     "execution_count": 30,
     "metadata": {},
     "output_type": "execute_result"
    }
   ],
   "source": [
    "politics.describe()"
   ]
  },
  {
   "cell_type": "code",
   "execution_count": 31,
   "id": "6dcec2af",
   "metadata": {},
   "outputs": [
    {
     "data": {
      "text/plain": [
       "(0.09847074,\n",
       " 0    0.540926\n",
       " 1    0.629417\n",
       " 2    0.806400\n",
       " 3    0.894891\n",
       " Name: Political_LeaningRight_Left, dtype: float64)"
      ]
     },
     "execution_count": 31,
     "metadata": {},
     "output_type": "execute_result"
    }
   ],
   "source": [
    "politics.median(), politics.mode()"
   ]
  },
  {
   "cell_type": "markdown",
   "id": "2ce4fefa",
   "metadata": {},
   "source": [
    "### Racism Score Summary\n",
    "The distribution for racism is unimodal and skewed. The measure for skew borderlines high at 0.998. The values for racism scores were gained through likert-style survey and the responses were summed and standardized. Due the shape of this distribution, further measures such as median and mode were preferred over mean. \n",
    "\n",
    "* Continuous\n",
    "* Scaled scores range from low values (high racism scores) to higher values (low racism scores)\n",
    "* Scores ranged from -3.31 to 1.06\n",
    "* Median score at 0.03, but the mode score was high (1.05)\n",
    "* Over 25% of scores were under zero"
   ]
  },
  {
   "cell_type": "code",
   "execution_count": 51,
   "id": "ab00c597",
   "metadata": {},
   "outputs": [
    {
     "data": {
      "text/plain": [
       "<Axes: xlabel='Racism_scale', ylabel='Count'>"
      ]
     },
     "execution_count": 51,
     "metadata": {},
     "output_type": "execute_result"
    },
    {
     "data": {
      "image/png": "[encoded data removed]",
      "text/plain": [
       "<Figure size 640x480 with 1 Axes>"
      ]
     },
     "metadata": {},
     "output_type": "display_data"
    }
   ],
   "source": [
    "racism = combined_df['Racism_scale']\n",
    "sns.histplot(data=combined_df, x= racism, bins =10)"
   ]
  },
  {
   "cell_type": "code",
   "execution_count": 52,
   "id": "8048ef32",
   "metadata": {},
   "outputs": [
    {
     "data": {
      "text/plain": [
       "count    1781.000000\n",
       "mean        0.035202\n",
       "std         0.998032\n",
       "min        -3.314837\n",
       "25%        -0.532733\n",
       "50%         0.262154\n",
       "75%         0.659597\n",
       "max         1.057040\n",
       "Name: Racism_scale, dtype: float64"
      ]
     },
     "execution_count": 52,
     "metadata": {},
     "output_type": "execute_result"
    }
   ],
   "source": [
    "racism.describe()"
   ]
  },
  {
   "cell_type": "code",
   "execution_count": 53,
   "id": "e8f9f28e",
   "metadata": {},
   "outputs": [
    {
     "data": {
      "text/plain": [
       "0.262153509"
      ]
     },
     "execution_count": 53,
     "metadata": {},
     "output_type": "execute_result"
    }
   ],
   "source": [
    "racism.median()"
   ]
  },
  {
   "cell_type": "code",
   "execution_count": 54,
   "id": "67b7d58d",
   "metadata": {},
   "outputs": [
    {
     "data": {
      "text/plain": [
       "(-0.9989831042023252, 0.3252569396364029)"
      ]
     },
     "execution_count": 54,
     "metadata": {},
     "output_type": "execute_result"
    }
   ],
   "source": [
    "racism.skew(), racism.kurt()"
   ]
  },
  {
   "cell_type": "code",
   "execution_count": 55,
   "id": "2433f748",
   "metadata": {},
   "outputs": [
    {
     "data": {
      "text/plain": [
       "0    1.05704\n",
       "Name: Racism_scale, dtype: float64"
      ]
     },
     "execution_count": 55,
     "metadata": {},
     "output_type": "execute_result"
    }
   ],
   "source": [
    "racism.mode()"
   ]
  },
  {
   "cell_type": "markdown",
   "id": "649c15e3",
   "metadata": {},
   "source": [
    "### Extremism Summary\n",
    "Extremism is a continuous variable gained from likert-style survey questions. PCA scaling was used and results standardized to create a 0-10 scale score result where 0 is least extreme. Results suggest the only a very small minority of participants were found to have extremist views. The skew of these results was very high at 2.25 and scores for kurtosis at 5.21 reflect the tall, singular peak of the distribution seen in the graph. \n",
    "\n",
    "* Strong positive skew (2.25)\n",
    "* Resulting scores ranged from 0 - 9\n",
    "* over 75% scored at 1.06 or less"
   ]
  },
  {
   "cell_type": "code",
   "execution_count": 56,
   "id": "406a1339",
   "metadata": {},
   "outputs": [
    {
     "data": {
      "text/plain": [
       "<Axes: xlabel='Extremism', ylabel='Count'>"
      ]
     },
     "execution_count": 56,
     "metadata": {},
     "output_type": "execute_result"
    },
    {
     "data": {
      "image/png": "[encoded data removed]",
      "text/plain": [
       "<Figure size 640x480 with 1 Axes>"
      ]
     },
     "metadata": {},
     "output_type": "display_data"
    }
   ],
   "source": [
    "#rename column\n",
    "combined_df = combined_df.rename(columns={'Extermism_scoreScaled': 'Extremism'})\n",
    "\n",
    "#Create variable for column\n",
    "extremism = combined_df['Extremism']\n",
    "\n",
    "# Create plot\n",
    "sns.histplot(data=combined_df, x= extremism, bins =10)"
   ]
  },
  {
   "cell_type": "code",
   "execution_count": 57,
   "id": "7a14574f",
   "metadata": {},
   "outputs": [
    {
     "data": {
      "text/plain": [
       "(2.245545780356331, 5.205256902228754)"
      ]
     },
     "execution_count": 57,
     "metadata": {},
     "output_type": "execute_result"
    }
   ],
   "source": [
    "extremism.skew(), extremism.kurt()"
   ]
  },
  {
   "cell_type": "code",
   "execution_count": 58,
   "id": "9695f1b3",
   "metadata": {},
   "outputs": [
    {
     "data": {
      "text/plain": [
       "(0    0.0\n",
       " Name: Extremism, dtype: float64,\n",
       " 0.0)"
      ]
     },
     "execution_count": 58,
     "metadata": {},
     "output_type": "execute_result"
    }
   ],
   "source": [
    "extremism.mode(), extremism.median()"
   ]
  },
  {
   "cell_type": "code",
   "execution_count": 59,
   "id": "9ad6e974",
   "metadata": {},
   "outputs": [
    {
     "data": {
      "text/plain": [
       "count    1673.000000\n",
       "mean        0.793472\n",
       "std         1.364567\n",
       "min         0.000000\n",
       "25%         0.000000\n",
       "50%         0.000000\n",
       "75%         1.063198\n",
       "max         9.000000\n",
       "Name: Extremism, dtype: float64"
      ]
     },
     "execution_count": 59,
     "metadata": {},
     "output_type": "execute_result"
    }
   ],
   "source": [
    "extremism.describe()"
   ]
  },
  {
   "cell_type": "markdown",
   "id": "429d9bce",
   "metadata": {},
   "source": [
    "## PMF Exploration"
   ]
  },
  {
   "cell_type": "code",
   "execution_count": 60,
   "id": "9e726fac",
   "metadata": {},
   "outputs": [
    {
     "data": {
      "text/plain": [
       "<Axes: xlabel='Extremism', ylabel='Count'>"
      ]
     },
     "execution_count": 60,
     "metadata": {},
     "output_type": "execute_result"
    },
    {
     "data": {
      "image/png": "[encoded data removed]",
      "text/plain": [
       "<Figure size 640x480 with 1 Axes>"
      ]
     },
     "metadata": {},
     "output_type": "display_data"
    }
   ],
   "source": [
    "# Explore attributes for participants with the highest scores for extremism. We will use 4 as the split\n",
    "\n",
    "high_extremism = combined_df[combined_df.Extremism >= 4]\n",
    "sns.histplot(data=combined_df, x= high_extremism['Extremism'], bins =20)\n",
    "\n"
   ]
  },
  {
   "cell_type": "code",
   "execution_count": 61,
   "id": "71498da4",
   "metadata": {},
   "outputs": [
    {
     "data": {
      "text/plain": [
       "93"
      ]
     },
     "execution_count": 61,
     "metadata": {},
     "output_type": "execute_result"
    }
   ],
   "source": [
    "# Check sample size left after change\n",
    "len(high_extremism)"
   ]
  },
  {
   "cell_type": "code",
   "execution_count": 62,
   "id": "e58ac4b5",
   "metadata": {},
   "outputs": [],
   "source": [
    "# Create group for the other half of the split and adjust sample to match for easier comparison\n",
    "\n",
    "other_extremism = combined_df[combined_df.Extremism < 4]\n",
    "other_extremism = other_extremism.sample(n=93, axis = 0, random_state = 20)"
   ]
  },
  {
   "cell_type": "code",
   "execution_count": 63,
   "id": "ad383246",
   "metadata": {},
   "outputs": [
    {
     "data": {
      "text/plain": [
       "93"
      ]
     },
     "execution_count": 63,
     "metadata": {},
     "output_type": "execute_result"
    }
   ],
   "source": [
    "# Validate lengths match\n",
    "len(other_extremism)"
   ]
  },
  {
   "cell_type": "code",
   "execution_count": 64,
   "id": "a3241e8c",
   "metadata": {},
   "outputs": [],
   "source": [
    "# Create histogram/pmf of political view for respondents with higher extremism scores\n",
    "high_hist = thinkstats2.Hist(high_extremism)\n",
    "high_pmf = thinkstats2.Pmf(high_extremism.Political_LeaningRight_Left, label='Extreme')\n",
    "\n",
    "# Create histogram/pmf of political view for respondents with lower extremism scores\n",
    "other_hist = thinkstats2.Hist(other_extremism)\n",
    "other_pmf = thinkstats2.Pmf(other_extremism.Political_LeaningRight_Left, label='Less_Extreme')"
   ]
  },
  {
   "cell_type": "code",
   "execution_count": 65,
   "id": "b18fc612",
   "metadata": {},
   "outputs": [
    {
     "data": {
      "image/png": "[encoded data removed]",
      "text/plain": [
       "<Figure size 640x480 with 1 Axes>"
      ]
     },
     "metadata": {},
     "output_type": "display_data"
    }
   ],
   "source": [
    "# Plot PMF of political leaning for group with higher extremist scores\n",
    "thinkplot.Hist(high_pmf)\n",
    "thinkplot.Config(xlabel='Political Leaning', ylabel='Probability', axis =[-3, 3 , 0, .07])\n"
   ]
  },
  {
   "cell_type": "code",
   "execution_count": 66,
   "id": "2cb960ed",
   "metadata": {},
   "outputs": [
    {
     "data": {
      "image/png": "[encoded data removed]",
      "text/plain": [
       "<Figure size 640x480 with 1 Axes>"
      ]
     },
     "metadata": {},
     "output_type": "display_data"
    }
   ],
   "source": [
    "# Plot PMF for political leaning for group with lower extremist scores\n",
    "\n",
    "thinkplot.Hist(other_pmf)\n",
    "thinkplot.Config(xlabel='Political Leaning', ylabel='Probability', axis =[-3, 3 , 0, .07])"
   ]
  },
  {
   "cell_type": "code",
   "execution_count": 68,
   "id": "5e2ce41a",
   "metadata": {},
   "outputs": [
    {
     "data": {
      "image/png": "[encoded data removed]",
      "text/plain": [
       "<Figure size 1200x600 with 1 Axes>"
      ]
     },
     "metadata": {},
     "output_type": "display_data"
    }
   ],
   "source": [
    "# Plot PMF together for better comparison\n",
    "#thinkplot.PrePlot(2,cols = 2)\n",
    "width = .08\n",
    "axis=[-3,3, 0, 0.07]\n",
    "thinkplot.PrePlot(2, cols=2)\n",
    "thinkplot.Hist(high_pmf, align='right', width = width, label = \"Less Extreme\")\n",
    "thinkplot.Hist(other_pmf, align='left', width = width, label = \"Extreme\")\n",
    "thinkplot.Config(xlabel='<Left of Center Views         Right of Center Views>', ylabel='PMF', axis = axis )"
   ]
  },
  {
   "cell_type": "markdown",
   "id": "ea1750ef",
   "metadata": {},
   "source": [
    "### PMF Conclusion  \n",
    "To explore possibe attributes of extremist views those data points were split to explore possible differences in political leanings. To create a sample size over 50 that also captured higher than most scores, a threhold was chosen to split the pool at a score of 4. Those with extremism scores under four were in one group, called \"other_extremism\" and those with 4 or greater extremism scores were put into the group \"high_extremism\". The resulting sample for high-extremism was 93, so a sample was taken from the larger,'other', group to match. This clarified the resulting PMF Plot comparing both groups political views. When we split our sample into groups based on their extremism score the pmf of political views shows some clear variation. The plotted pmf suggests that those higher extremism scores have higher probabilities of having Right-of-Center views in the UK. Inversely, it appears that those with lower extremism scores have higher probabilities of having Left-of-Center views in the UK."
   ]
  },
  {
   "cell_type": "markdown",
   "id": "13cd91a9",
   "metadata": {},
   "source": [
    "## CDF Exploration  \n",
    "The cdf of participants extremism scores suggests that around 80% of scores were 2 or lower. On a scale that goes as high as 10, is reflects the difficulty is capturing data on what are rare views. It must also be taken into consideration, that  many respondents might have difficulty sharing what many would consider to be, unacceptable views. Looking at data related to those individuals with unusually high extremism scores might be a better way to see potential influences from a set of variables. When comparing CDFS for extremism views split by political views, we see very different results for these groups."
   ]
  },
  {
   "cell_type": "code",
   "execution_count": 49,
   "id": "030747bc",
   "metadata": {},
   "outputs": [
    {
     "data": {
      "image/png": "[encoded data removed]",
      "text/plain": [
       "<Figure size 432x288 with 1 Axes>"
      ]
     },
     "metadata": {
      "needs_background": "light"
     },
     "output_type": "display_data"
    },
    {
     "data": {
      "text/plain": [
       "<Figure size 576x432 with 0 Axes>"
      ]
     },
     "metadata": {},
     "output_type": "display_data"
    }
   ],
   "source": [
    "cdf = thinkstats2.Cdf(extremism, label = 'Extremism')\n",
    "thinkplot.Cdf(cdf)\n",
    "thinkplot.Show(xlabel = 'Extremism Score', ylabel = 'CDF')"
   ]
  },
  {
   "cell_type": "code",
   "execution_count": 50,
   "id": "0aa0d253",
   "metadata": {},
   "outputs": [],
   "source": [
    "cdf1 = thinkstats2.Cdf(high_extremism.Political_LeaningRight_Left, label = \"Higher Extremism\")\n",
    "cdf2 = thinkstats2.Cdf(other_extremism.Political_LeaningRight_Left, label = \"Other Extremism\")\n"
   ]
  },
  {
   "cell_type": "code",
   "execution_count": 51,
   "id": "9341fbee",
   "metadata": {},
   "outputs": [
    {
     "data": {
      "image/png": "[encoded data removed]",
      "text/plain": [
       "<Figure size 432x288 with 1 Axes>"
      ]
     },
     "metadata": {
      "needs_background": "light"
     },
     "output_type": "display_data"
    },
    {
     "data": {
      "text/plain": [
       "<Figure size 576x432 with 0 Axes>"
      ]
     },
     "metadata": {},
     "output_type": "display_data"
    }
   ],
   "source": [
    "thinkplot.PrePlot(2)\n",
    "thinkplot.Cdfs([cdf1,cdf2])\n",
    "thinkplot.Show(xlabel = 'Right Wing Views      Left Wing Views', ylabel = 'CDF' )"
   ]
  },
  {
   "cell_type": "markdown",
   "id": "5f295275",
   "metadata": {},
   "source": [
    "## Normal Probability Plot  \n",
    "A normal probability plot was create to test whether an analytical distribution is a good model for our extremism score data. A normal probability plot illustrates clearly the data for extremism scores is not suited for a linear model. The ideal straight diagonal line is what we might hope to see, but this was not the case. The highly skewed scores in the data show that probability favors scores above 0. Again this illustrates how only a minority of people scored below zero (higher extremism scores = negative scores). "
   ]
  },
  {
   "cell_type": "code",
   "execution_count": 52,
   "id": "90f8d430",
   "metadata": {},
   "outputs": [
    {
     "data": {
      "image/png": "[encoded data removed]",
      "text/plain": [
       "<Figure size 432x288 with 1 Axes>"
      ]
     },
     "metadata": {
      "needs_background": "light"
     },
     "output_type": "display_data"
    }
   ],
   "source": [
    "mean, var = thinkstats2.TrimmedMeanVar(extremism, p=0.01)\n",
    "std = np.sqrt(var)\n",
    "\n",
    "xs = [-4, 4]\n",
    "fxs, fys = thinkstats2.FitLine(xs, inter = mean, slope = std)\n",
    "thinkplot.Plot(fxs, fys, linewidth=5, color='gray', label = 'model')\n",
    "\n",
    "xs, ys = thinkstats2.NormalProbability(extremism)\n",
    "thinkplot.Plot(xs, ys, label='All Extremism Scores')\n",
    "\n",
    "thinkplot.Config(title='Normal probability plot',\n",
    "                 xlabel='Standard deviations from mean',\n",
    "                 ylabel='Extremism Scores')"
   ]
  },
  {
   "cell_type": "markdown",
   "id": "f5ff16e7",
   "metadata": {},
   "source": [
    "## Create Two Scatter Plots & Kendalls Tau\n",
    "The nature of extremist actors in the world is reflected in the data gathered, where only a small proportion of participants scores reflected 'high' extremism. To examine this group further I have chosen to focus my analysis on differences between participants with higher extremism scores verses lower extremism scores. Extremsism scores ranged from 0-9. To get started, a threshold was chosen at 4 to maintain a workable, although small sample size. The resulting sample size was 93, all of which scored at 4 or higher on extremism. Those scoring under 4 were grouped as \"others\" and a matching sample size was taken to allow for clearer comparison between groups visually in a scatter plot. The resulting plots reveal a difference in the range of scores. The more extreme group's range for racism scores was much wider going past -3, reflecting some stronger racist attitudes within the group. The other group's range was more concentrated and all values were above -3."
   ]
  },
  {
   "cell_type": "code",
   "execution_count": 53,
   "id": "88e57027",
   "metadata": {},
   "outputs": [
    {
     "data": {
      "image/png": "[encoded data removed]",
      "text/plain": [
       "<Figure size 432x288 with 1 Axes>"
      ]
     },
     "metadata": {
      "needs_background": "light"
     },
     "output_type": "display_data"
    }
   ],
   "source": [
    "thinkplot.Scatter(high_extremism.Racism_scale, high_extremism.Extremism, alpha=.5)\n",
    "thinkplot.Config(xlabel='Racism Score',\n",
    "                 ylabel='Extremism Score',\n",
    "                 axis=[-4,1, 0,10],\n",
    "                 legend=False)\n"
   ]
  },
  {
   "cell_type": "code",
   "execution_count": 54,
   "id": "4ca4ef41",
   "metadata": {},
   "outputs": [
    {
     "data": {
      "text/plain": [
       "(93, 93)"
      ]
     },
     "execution_count": 54,
     "metadata": {},
     "output_type": "execute_result"
    }
   ],
   "source": [
    "other_extremism_sampled = other_extremism.sample(axis = 0, n = 93)\n",
    "\n",
    "#Compare groups to ensure plots have comparable n values plotted\n",
    "len(other_extremism_sampled), len(high_extremism)"
   ]
  },
  {
   "cell_type": "code",
   "execution_count": 55,
   "id": "f0a394fc",
   "metadata": {},
   "outputs": [
    {
     "data": {
      "image/png": "[encoded data removed]",
      "text/plain": [
       "<Figure size 432x288 with 1 Axes>"
      ]
     },
     "metadata": {
      "needs_background": "light"
     },
     "output_type": "display_data"
    }
   ],
   "source": [
    "thinkplot.Scatter(other_extremism_sampled.Racism_scale, other_extremism_sampled.Extremism, alpha=.5)\n",
    "thinkplot.Config(xlabel='Racism Score',\n",
    "                 ylabel='Extremism Score',\n",
    "                 axis=[-4,1, 0,10],\n",
    "                 legend=False)\n"
   ]
  },
  {
   "cell_type": "markdown",
   "id": "00373c87",
   "metadata": {},
   "source": [
    "### Kendalls Tau with p-value , Testing Difference in Means with p-value"
   ]
  },
  {
   "cell_type": "code",
   "execution_count": 56,
   "id": "c76c0421",
   "metadata": {},
   "outputs": [],
   "source": [
    "# Non-Parametric testing between extremism scores and racism scores \n",
    "\n",
    "#Remove nan values\n",
    "combined_df = combined_df.dropna()\n",
    "\n",
    "#Get measure for Kendalls Tau and pvalue\n",
    "tau, p_value = stats.kendalltau(combined_df.Extremism, combined_df.Racism_scale)\n"
   ]
  },
  {
   "cell_type": "code",
   "execution_count": 57,
   "id": "8552bfa9",
   "metadata": {},
   "outputs": [
    {
     "data": {
      "text/html": [
       "<div>\n",
       "<style scoped>\n",
       "    .dataframe tbody tr th:only-of-type {\n",
       "        vertical-align: middle;\n",
       "    }\n",
       "\n",
       "    .dataframe tbody tr th {\n",
       "        vertical-align: top;\n",
       "    }\n",
       "\n",
       "    .dataframe thead th {\n",
       "        text-align: right;\n",
       "    }\n",
       "</style>\n",
       "<table border=\"1\" class=\"dataframe\">\n",
       "  <thead>\n",
       "    <tr style=\"text-align: right;\">\n",
       "      <th></th>\n",
       "      <th>Age</th>\n",
       "      <th>Gender</th>\n",
       "      <th>Religious_Affilation</th>\n",
       "      <th>SocialMedia_Use</th>\n",
       "      <th>Extremism</th>\n",
       "      <th>Political_LeaningRight_Left</th>\n",
       "      <th>Racism_scale</th>\n",
       "    </tr>\n",
       "  </thead>\n",
       "  <tbody>\n",
       "    <tr>\n",
       "      <th>Age</th>\n",
       "      <td>266.932537</td>\n",
       "      <td>1.037506</td>\n",
       "      <td>-2.865099</td>\n",
       "      <td>-2.065917</td>\n",
       "      <td>-4.386742</td>\n",
       "      <td>-1.932050</td>\n",
       "      <td>0.574694</td>\n",
       "    </tr>\n",
       "    <tr>\n",
       "      <th>Gender</th>\n",
       "      <td>1.037506</td>\n",
       "      <td>0.232943</td>\n",
       "      <td>-0.007080</td>\n",
       "      <td>-0.032782</td>\n",
       "      <td>-0.150276</td>\n",
       "      <td>0.068781</td>\n",
       "      <td>0.070593</td>\n",
       "    </tr>\n",
       "    <tr>\n",
       "      <th>Religious_Affilation</th>\n",
       "      <td>-2.865099</td>\n",
       "      <td>-0.007080</td>\n",
       "      <td>1.358463</td>\n",
       "      <td>0.021919</td>\n",
       "      <td>0.034628</td>\n",
       "      <td>0.341781</td>\n",
       "      <td>0.238644</td>\n",
       "    </tr>\n",
       "    <tr>\n",
       "      <th>SocialMedia_Use</th>\n",
       "      <td>-2.065917</td>\n",
       "      <td>-0.032782</td>\n",
       "      <td>0.021919</td>\n",
       "      <td>1.134408</td>\n",
       "      <td>0.174700</td>\n",
       "      <td>0.067720</td>\n",
       "      <td>-0.039347</td>\n",
       "    </tr>\n",
       "    <tr>\n",
       "      <th>Extremism</th>\n",
       "      <td>-4.386742</td>\n",
       "      <td>-0.150276</td>\n",
       "      <td>0.034628</td>\n",
       "      <td>0.174700</td>\n",
       "      <td>1.802916</td>\n",
       "      <td>-0.255586</td>\n",
       "      <td>-0.407439</td>\n",
       "    </tr>\n",
       "    <tr>\n",
       "      <th>Political_LeaningRight_Left</th>\n",
       "      <td>-1.932050</td>\n",
       "      <td>0.068781</td>\n",
       "      <td>0.341781</td>\n",
       "      <td>0.067720</td>\n",
       "      <td>-0.255586</td>\n",
       "      <td>0.993997</td>\n",
       "      <td>0.633008</td>\n",
       "    </tr>\n",
       "    <tr>\n",
       "      <th>Racism_scale</th>\n",
       "      <td>0.574694</td>\n",
       "      <td>0.070593</td>\n",
       "      <td>0.238644</td>\n",
       "      <td>-0.039347</td>\n",
       "      <td>-0.407439</td>\n",
       "      <td>0.633008</td>\n",
       "      <td>1.014781</td>\n",
       "    </tr>\n",
       "  </tbody>\n",
       "</table>\n",
       "</div>"
      ],
      "text/plain": [
       "                                    Age    Gender  Religious_Affilation  \\\n",
       "Age                          266.932537  1.037506             -2.865099   \n",
       "Gender                         1.037506  0.232943             -0.007080   \n",
       "Religious_Affilation          -2.865099 -0.007080              1.358463   \n",
       "SocialMedia_Use               -2.065917 -0.032782              0.021919   \n",
       "Extremism                     -4.386742 -0.150276              0.034628   \n",
       "Political_LeaningRight_Left   -1.932050  0.068781              0.341781   \n",
       "Racism_scale                   0.574694  0.070593              0.238644   \n",
       "\n",
       "                             SocialMedia_Use  Extremism  \\\n",
       "Age                                -2.065917  -4.386742   \n",
       "Gender                             -0.032782  -0.150276   \n",
       "Religious_Affilation                0.021919   0.034628   \n",
       "SocialMedia_Use                     1.134408   0.174700   \n",
       "Extremism                           0.174700   1.802916   \n",
       "Political_LeaningRight_Left         0.067720  -0.255586   \n",
       "Racism_scale                       -0.039347  -0.407439   \n",
       "\n",
       "                             Political_LeaningRight_Left  Racism_scale  \n",
       "Age                                            -1.932050      0.574694  \n",
       "Gender                                          0.068781      0.070593  \n",
       "Religious_Affilation                            0.341781      0.238644  \n",
       "SocialMedia_Use                                 0.067720     -0.039347  \n",
       "Extremism                                      -0.255586     -0.407439  \n",
       "Political_LeaningRight_Left                     0.993997      0.633008  \n",
       "Racism_scale                                    0.633008      1.014781  "
      ]
     },
     "execution_count": 57,
     "metadata": {},
     "output_type": "execute_result"
    }
   ],
   "source": [
    "combined_df.cov()"
   ]
  },
  {
   "cell_type": "code",
   "execution_count": 58,
   "id": "b030de52",
   "metadata": {},
   "outputs": [
    {
     "data": {
      "text/plain": [
       "1448"
      ]
     },
     "execution_count": 58,
     "metadata": {},
     "output_type": "execute_result"
    }
   ],
   "source": [
    "len(combined_df)"
   ]
  },
  {
   "cell_type": "code",
   "execution_count": 59,
   "id": "6aaa14d8",
   "metadata": {},
   "outputs": [
    {
     "data": {
      "text/plain": [
       "(-0.17940199351154318, 1.605215411181935e-18)"
      ]
     },
     "execution_count": 59,
     "metadata": {},
     "output_type": "execute_result"
    }
   ],
   "source": [
    "tau, p_value"
   ]
  },
  {
   "cell_type": "markdown",
   "id": "4c0a5024",
   "metadata": {},
   "source": [
    "When conducting Kendall's Tau correlation on the data as a whole the results show a weak negative tau of -0.17 where increased scores for Extremism related to decreased scores for racism. The reverse scaling for racism means this results suggests that increases in extremist views are associated with increases in racist views. With a p_value at 1.605215411181935e-18, this small correlation appears significant and less likely due to chance from sampling. Additional testing done to compare means of both groups aslo resulted in a significant, 0.0, p-value. The sample mean for racism scores was -0.96 for those with higher extremism scores while those with lower scores had a lower mean of -0.05. "
   ]
  },
  {
   "cell_type": "code",
   "execution_count": 60,
   "id": "7e9c0867",
   "metadata": {},
   "outputs": [],
   "source": [
    "#Bring in functions compare and test signficance of any difference between means\n",
    "\n",
    "class DiffMeansPermute(thinkstats2.HypothesisTest):\n",
    "\n",
    "    def TestStatistic(self, data):\n",
    "        group1, group2 = data\n",
    "        test_stat = abs(group1.mean() - group2.mean())\n",
    "        return test_stat\n",
    "\n",
    "    def MakeModel(self):\n",
    "        group1, group2 = self.data\n",
    "        self.n, self.m = len(group1), len(group2)\n",
    "        self.pool = np.hstack((group1, group2))\n",
    "\n",
    "    def RunModel(self):\n",
    "        np.random.shuffle(self.pool)\n",
    "        data = self.pool[:self.n], self.pool[self.n:]\n",
    "        return data\n",
    "\n",
    "\n",
    "class DiffStdPermute(DiffMeansPermute):\n",
    "\n",
    "    def TestStatistic(self, data):\n",
    "        group1, group2 = data\n",
    "        test_stat = group1.std() - group2.std()\n",
    "        return test_stat"
   ]
  },
  {
   "cell_type": "code",
   "execution_count": 61,
   "id": "21caddb8",
   "metadata": {},
   "outputs": [
    {
     "data": {
      "text/plain": [
       "(93, 93)"
      ]
     },
     "execution_count": 61,
     "metadata": {},
     "output_type": "execute_result"
    }
   ],
   "source": [
    "# Check length matches\n",
    "len(high_extremism), len(other_extremism)"
   ]
  },
  {
   "cell_type": "code",
   "execution_count": 62,
   "id": "907fd09b",
   "metadata": {},
   "outputs": [],
   "source": [
    "# Assign racism data from both higher and lower extremism groups to be used\n",
    "\n",
    "data = high_extremism.Racism_scale.values, other_extremism.Racism_scale.values"
   ]
  },
  {
   "cell_type": "code",
   "execution_count": 63,
   "id": "55126cc3",
   "metadata": {},
   "outputs": [
    {
     "data": {
      "text/plain": [
       "(-0.9604170861630439, 0.12391231057608697)"
      ]
     },
     "execution_count": 63,
     "metadata": {},
     "output_type": "execute_result"
    }
   ],
   "source": [
    "# Check racism score means for those with higher and lower scores for extremism\n",
    "high_extremism.Racism_scale.mean(), other_extremism.Racism_scale.mean()"
   ]
  },
  {
   "cell_type": "code",
   "execution_count": 64,
   "id": "97ad7ed8",
   "metadata": {},
   "outputs": [
    {
     "data": {
      "text/plain": [
       "0.0"
      ]
     },
     "execution_count": 64,
     "metadata": {},
     "output_type": "execute_result"
    }
   ],
   "source": [
    "# Test difference\n",
    "ht = DiffMeansPermute(data)\n",
    "pvalue = ht.PValue()\n",
    "pvalue"
   ]
  },
  {
   "cell_type": "markdown",
   "id": "99b5ffdf",
   "metadata": {},
   "source": []
  },
  {
   "cell_type": "markdown",
   "id": "d443254f",
   "metadata": {},
   "source": [
    "### Multiple Regression Analysis\n",
    "\n",
    "After running a multiple regression on a select couple of variables an improved result came after the creation of new categorical variables. Racism scores were used to create a new variable that coded as True for scores below 0. Another variable was created from Political Leaning that coded as True for scores less than -1. These changes dramatically improved R-Squared from 0.09 to 16.8. Including gender and age also improved R squared and adjusted R squared. Five variables were included in the final regression model. These variables included Racism Score, Racism Scores under 0, Political Leaning Scores under -1 (right of center leaning), Age, and Gender. All variables included had p-values under 0.005, showing their contribution was less likely due to sampling. Age squared was created to check for a potentially non-linear relationship, but the results did not support this change.  "
   ]
  },
  {
   "cell_type": "code",
   "execution_count": 65,
   "id": "64af0458",
   "metadata": {},
   "outputs": [],
   "source": [
    "combined_df = combined_df.dropna()\n",
    "\n",
    "#Create categorical variable for right-of-cetner political leaning\n",
    "combined_df['right'] = combined_df.Political_LeaningRight_Left <-1\n",
    "\n",
    "#Create catergorical variable for those with high racism scores\n",
    "combined_df['racist'] = combined_df.Racism_scale < 0\n",
    "\n",
    "#Create squared age variable to check for non-linear age relationship\n",
    "combined_df['Age2'] =combined_df.Age**2\n",
    "\n",
    "#Create boolean to test if male gender improves prediction\n",
    "combined_df['Male'] = combined_df.Gender == 0"
   ]
  },
  {
   "cell_type": "code",
   "execution_count": 66,
   "id": "a23d6023",
   "metadata": {},
   "outputs": [
    {
     "data": {
      "text/html": [
       "<table class=\"simpletable\">\n",
       "<caption>OLS Regression Results</caption>\n",
       "<tr>\n",
       "  <th>Dep. Variable:</th>        <td>Extremism</td>    <th>  R-squared:         </th> <td>   0.091</td>\n",
       "</tr>\n",
       "<tr>\n",
       "  <th>Model:</th>                   <td>OLS</td>       <th>  Adj. R-squared:    </th> <td>   0.089</td>\n",
       "</tr>\n",
       "<tr>\n",
       "  <th>Method:</th>             <td>Least Squares</td>  <th>  F-statistic:       </th> <td>   72.10</td>\n",
       "</tr>\n",
       "<tr>\n",
       "  <th>Date:</th>             <td>Sat, 20 Nov 2021</td> <th>  Prob (F-statistic):</th> <td>1.42e-30</td>\n",
       "</tr>\n",
       "<tr>\n",
       "  <th>Time:</th>                 <td>20:38:52</td>     <th>  Log-Likelihood:    </th> <td> -2412.0</td>\n",
       "</tr>\n",
       "<tr>\n",
       "  <th>No. Observations:</th>      <td>  1448</td>      <th>  AIC:               </th> <td>   4830.</td>\n",
       "</tr>\n",
       "<tr>\n",
       "  <th>Df Residuals:</th>          <td>  1445</td>      <th>  BIC:               </th> <td>   4846.</td>\n",
       "</tr>\n",
       "<tr>\n",
       "  <th>Df Model:</th>              <td>     2</td>      <th>                     </th>     <td> </td>   \n",
       "</tr>\n",
       "<tr>\n",
       "  <th>Covariance Type:</th>      <td>nonrobust</td>    <th>                     </th>     <td> </td>   \n",
       "</tr>\n",
       "</table>\n",
       "<table class=\"simpletable\">\n",
       "<tr>\n",
       "               <td></td>                  <th>coef</th>     <th>std err</th>      <th>t</th>      <th>P>|t|</th>  <th>[0.025</th>    <th>0.975]</th>  \n",
       "</tr>\n",
       "<tr>\n",
       "  <th>Intercept</th>                   <td>    0.7812</td> <td>    0.034</td> <td>   23.186</td> <td> 0.000</td> <td>    0.715</td> <td>    0.847</td>\n",
       "</tr>\n",
       "<tr>\n",
       "  <th>Racism_scale</th>                <td>   -0.4000</td> <td>    0.043</td> <td>   -9.288</td> <td> 0.000</td> <td>   -0.484</td> <td>   -0.316</td>\n",
       "</tr>\n",
       "<tr>\n",
       "  <th>Political_LeaningRight_Left</th> <td>   -0.0024</td> <td>    0.044</td> <td>   -0.055</td> <td> 0.956</td> <td>   -0.088</td> <td>    0.083</td>\n",
       "</tr>\n",
       "</table>\n",
       "<table class=\"simpletable\">\n",
       "<tr>\n",
       "  <th>Omnibus:</th>       <td>625.670</td> <th>  Durbin-Watson:     </th> <td>   2.006</td>\n",
       "</tr>\n",
       "<tr>\n",
       "  <th>Prob(Omnibus):</th> <td> 0.000</td>  <th>  Jarque-Bera (JB):  </th> <td>2721.620</td>\n",
       "</tr>\n",
       "<tr>\n",
       "  <th>Skew:</th>          <td> 2.074</td>  <th>  Prob(JB):          </th> <td>    0.00</td>\n",
       "</tr>\n",
       "<tr>\n",
       "  <th>Kurtosis:</th>      <td> 8.282</td>  <th>  Cond. No.          </th> <td>    2.10</td>\n",
       "</tr>\n",
       "</table><br/><br/>Notes:<br/>[1] Standard Errors assume that the covariance matrix of the errors is correctly specified."
      ],
      "text/plain": [
       "<class 'statsmodels.iolib.summary.Summary'>\n",
       "\"\"\"\n",
       "                            OLS Regression Results                            \n",
       "==============================================================================\n",
       "Dep. Variable:              Extremism   R-squared:                       0.091\n",
       "Model:                            OLS   Adj. R-squared:                  0.089\n",
       "Method:                 Least Squares   F-statistic:                     72.10\n",
       "Date:                Sat, 20 Nov 2021   Prob (F-statistic):           1.42e-30\n",
       "Time:                        20:38:52   Log-Likelihood:                -2412.0\n",
       "No. Observations:                1448   AIC:                             4830.\n",
       "Df Residuals:                    1445   BIC:                             4846.\n",
       "Df Model:                           2                                         \n",
       "Covariance Type:            nonrobust                                         \n",
       "===============================================================================================\n",
       "                                  coef    std err          t      P>|t|      [0.025      0.975]\n",
       "-----------------------------------------------------------------------------------------------\n",
       "Intercept                       0.7812      0.034     23.186      0.000       0.715       0.847\n",
       "Racism_scale                   -0.4000      0.043     -9.288      0.000      -0.484      -0.316\n",
       "Political_LeaningRight_Left    -0.0024      0.044     -0.055      0.956      -0.088       0.083\n",
       "==============================================================================\n",
       "Omnibus:                      625.670   Durbin-Watson:                   2.006\n",
       "Prob(Omnibus):                  0.000   Jarque-Bera (JB):             2721.620\n",
       "Skew:                           2.074   Prob(JB):                         0.00\n",
       "Kurtosis:                       8.282   Cond. No.                         2.10\n",
       "==============================================================================\n",
       "\n",
       "Notes:\n",
       "[1] Standard Errors assume that the covariance matrix of the errors is correctly specified.\n",
       "\"\"\""
      ]
     },
     "execution_count": 66,
     "metadata": {},
     "output_type": "execute_result"
    }
   ],
   "source": [
    "formula = 'Extremism ~ Racism_scale + Political_LeaningRight_Left'\n",
    "results = smf.ols(formula, data=combined_df).fit()\n",
    "results.summary()"
   ]
  },
  {
   "cell_type": "code",
   "execution_count": 67,
   "id": "a582af33",
   "metadata": {},
   "outputs": [
    {
     "data": {
      "text/html": [
       "<table class=\"simpletable\">\n",
       "<caption>OLS Regression Results</caption>\n",
       "<tr>\n",
       "  <th>Dep. Variable:</th>        <td>Extremism</td>    <th>  R-squared:         </th> <td>   0.125</td>\n",
       "</tr>\n",
       "<tr>\n",
       "  <th>Model:</th>                   <td>OLS</td>       <th>  Adj. R-squared:    </th> <td>   0.123</td>\n",
       "</tr>\n",
       "<tr>\n",
       "  <th>Method:</th>             <td>Least Squares</td>  <th>  F-statistic:       </th> <td>   68.71</td>\n",
       "</tr>\n",
       "<tr>\n",
       "  <th>Date:</th>             <td>Sat, 20 Nov 2021</td> <th>  Prob (F-statistic):</th> <td>1.55e-41</td>\n",
       "</tr>\n",
       "<tr>\n",
       "  <th>Time:</th>                 <td>20:38:52</td>     <th>  Log-Likelihood:    </th> <td> -2384.2</td>\n",
       "</tr>\n",
       "<tr>\n",
       "  <th>No. Observations:</th>      <td>  1448</td>      <th>  AIC:               </th> <td>   4776.</td>\n",
       "</tr>\n",
       "<tr>\n",
       "  <th>Df Residuals:</th>          <td>  1444</td>      <th>  BIC:               </th> <td>   4798.</td>\n",
       "</tr>\n",
       "<tr>\n",
       "  <th>Df Model:</th>              <td>     3</td>      <th>                     </th>     <td> </td>   \n",
       "</tr>\n",
       "<tr>\n",
       "  <th>Covariance Type:</th>      <td>nonrobust</td>    <th>                     </th>     <td> </td>   \n",
       "</tr>\n",
       "</table>\n",
       "<table class=\"simpletable\">\n",
       "<tr>\n",
       "               <td></td>                  <th>coef</th>     <th>std err</th>      <th>t</th>      <th>P>|t|</th>  <th>[0.025</th>    <th>0.975]</th>  \n",
       "</tr>\n",
       "<tr>\n",
       "  <th>Intercept</th>                   <td>    1.2440</td> <td>    0.070</td> <td>   17.788</td> <td> 0.000</td> <td>    1.107</td> <td>    1.381</td>\n",
       "</tr>\n",
       "<tr>\n",
       "  <th>Racism_scale</th>                <td>   -0.3571</td> <td>    0.043</td> <td>   -8.373</td> <td> 0.000</td> <td>   -0.441</td> <td>   -0.273</td>\n",
       "</tr>\n",
       "<tr>\n",
       "  <th>Political_LeaningRight_Left</th> <td>   -0.0612</td> <td>    0.043</td> <td>   -1.410</td> <td> 0.159</td> <td>   -0.146</td> <td>    0.024</td>\n",
       "</tr>\n",
       "<tr>\n",
       "  <th>Age2</th>                        <td>   -0.0002</td> <td> 2.21e-05</td> <td>   -7.511</td> <td> 0.000</td> <td>   -0.000</td> <td>   -0.000</td>\n",
       "</tr>\n",
       "</table>\n",
       "<table class=\"simpletable\">\n",
       "<tr>\n",
       "  <th>Omnibus:</th>       <td>616.096</td> <th>  Durbin-Watson:     </th> <td>   2.019</td>\n",
       "</tr>\n",
       "<tr>\n",
       "  <th>Prob(Omnibus):</th> <td> 0.000</td>  <th>  Jarque-Bera (JB):  </th> <td>2638.140</td>\n",
       "</tr>\n",
       "<tr>\n",
       "  <th>Skew:</th>          <td> 2.044</td>  <th>  Prob(JB):          </th> <td>    0.00</td>\n",
       "</tr>\n",
       "<tr>\n",
       "  <th>Kurtosis:</th>      <td> 8.198</td>  <th>  Cond. No.          </th> <td>6.83e+03</td>\n",
       "</tr>\n",
       "</table><br/><br/>Notes:<br/>[1] Standard Errors assume that the covariance matrix of the errors is correctly specified.<br/>[2] The condition number is large, 6.83e+03. This might indicate that there are<br/>strong multicollinearity or other numerical problems."
      ],
      "text/plain": [
       "<class 'statsmodels.iolib.summary.Summary'>\n",
       "\"\"\"\n",
       "                            OLS Regression Results                            \n",
       "==============================================================================\n",
       "Dep. Variable:              Extremism   R-squared:                       0.125\n",
       "Model:                            OLS   Adj. R-squared:                  0.123\n",
       "Method:                 Least Squares   F-statistic:                     68.71\n",
       "Date:                Sat, 20 Nov 2021   Prob (F-statistic):           1.55e-41\n",
       "Time:                        20:38:52   Log-Likelihood:                -2384.2\n",
       "No. Observations:                1448   AIC:                             4776.\n",
       "Df Residuals:                    1444   BIC:                             4798.\n",
       "Df Model:                           3                                         \n",
       "Covariance Type:            nonrobust                                         \n",
       "===============================================================================================\n",
       "                                  coef    std err          t      P>|t|      [0.025      0.975]\n",
       "-----------------------------------------------------------------------------------------------\n",
       "Intercept                       1.2440      0.070     17.788      0.000       1.107       1.381\n",
       "Racism_scale                   -0.3571      0.043     -8.373      0.000      -0.441      -0.273\n",
       "Political_LeaningRight_Left    -0.0612      0.043     -1.410      0.159      -0.146       0.024\n",
       "Age2                           -0.0002   2.21e-05     -7.511      0.000      -0.000      -0.000\n",
       "==============================================================================\n",
       "Omnibus:                      616.096   Durbin-Watson:                   2.019\n",
       "Prob(Omnibus):                  0.000   Jarque-Bera (JB):             2638.140\n",
       "Skew:                           2.044   Prob(JB):                         0.00\n",
       "Kurtosis:                       8.198   Cond. No.                     6.83e+03\n",
       "==============================================================================\n",
       "\n",
       "Notes:\n",
       "[1] Standard Errors assume that the covariance matrix of the errors is correctly specified.\n",
       "[2] The condition number is large, 6.83e+03. This might indicate that there are\n",
       "strong multicollinearity or other numerical problems.\n",
       "\"\"\""
      ]
     },
     "execution_count": 67,
     "metadata": {},
     "output_type": "execute_result"
    }
   ],
   "source": [
    "formula = 'Extremism ~ Racism_scale + Political_LeaningRight_Left + Age2'\n",
    "results = smf.ols(formula, data=combined_df).fit()\n",
    "results.summary()"
   ]
  },
  {
   "cell_type": "code",
   "execution_count": 68,
   "id": "d0eff2f3",
   "metadata": {},
   "outputs": [
    {
     "data": {
      "text/html": [
       "<table class=\"simpletable\">\n",
       "<caption>OLS Regression Results</caption>\n",
       "<tr>\n",
       "  <th>Dep. Variable:</th>        <td>Extremism</td>    <th>  R-squared:         </th> <td>   0.128</td>\n",
       "</tr>\n",
       "<tr>\n",
       "  <th>Model:</th>                   <td>OLS</td>       <th>  Adj. R-squared:    </th> <td>   0.126</td>\n",
       "</tr>\n",
       "<tr>\n",
       "  <th>Method:</th>             <td>Least Squares</td>  <th>  F-statistic:       </th> <td>   70.65</td>\n",
       "</tr>\n",
       "<tr>\n",
       "  <th>Date:</th>             <td>Sat, 20 Nov 2021</td> <th>  Prob (F-statistic):</th> <td>1.24e-42</td>\n",
       "</tr>\n",
       "<tr>\n",
       "  <th>Time:</th>                 <td>20:38:52</td>     <th>  Log-Likelihood:    </th> <td> -2381.7</td>\n",
       "</tr>\n",
       "<tr>\n",
       "  <th>No. Observations:</th>      <td>  1448</td>      <th>  AIC:               </th> <td>   4771.</td>\n",
       "</tr>\n",
       "<tr>\n",
       "  <th>Df Residuals:</th>          <td>  1444</td>      <th>  BIC:               </th> <td>   4793.</td>\n",
       "</tr>\n",
       "<tr>\n",
       "  <th>Df Model:</th>              <td>     3</td>      <th>                     </th>     <td> </td>   \n",
       "</tr>\n",
       "<tr>\n",
       "  <th>Covariance Type:</th>      <td>nonrobust</td>    <th>                     </th>     <td> </td>   \n",
       "</tr>\n",
       "</table>\n",
       "<table class=\"simpletable\">\n",
       "<tr>\n",
       "               <td></td>                  <th>coef</th>     <th>std err</th>      <th>t</th>      <th>P>|t|</th>  <th>[0.025</th>    <th>0.975]</th>  \n",
       "</tr>\n",
       "<tr>\n",
       "  <th>Intercept</th>                   <td>    1.5909</td> <td>    0.108</td> <td>   14.696</td> <td> 0.000</td> <td>    1.379</td> <td>    1.803</td>\n",
       "</tr>\n",
       "<tr>\n",
       "  <th>Racism_scale</th>                <td>   -0.3524</td> <td>    0.043</td> <td>   -8.267</td> <td> 0.000</td> <td>   -0.436</td> <td>   -0.269</td>\n",
       "</tr>\n",
       "<tr>\n",
       "  <th>Political_LeaningRight_Left</th> <td>   -0.0641</td> <td>    0.043</td> <td>   -1.479</td> <td> 0.139</td> <td>   -0.149</td> <td>    0.021</td>\n",
       "</tr>\n",
       "<tr>\n",
       "  <th>Age</th>                         <td>   -0.0161</td> <td>    0.002</td> <td>   -7.854</td> <td> 0.000</td> <td>   -0.020</td> <td>   -0.012</td>\n",
       "</tr>\n",
       "</table>\n",
       "<table class=\"simpletable\">\n",
       "<tr>\n",
       "  <th>Omnibus:</th>       <td>614.718</td> <th>  Durbin-Watson:     </th> <td>   2.016</td>\n",
       "</tr>\n",
       "<tr>\n",
       "  <th>Prob(Omnibus):</th> <td> 0.000</td>  <th>  Jarque-Bera (JB):  </th> <td>2619.407</td>\n",
       "</tr>\n",
       "<tr>\n",
       "  <th>Skew:</th>          <td> 2.041</td>  <th>  Prob(JB):          </th> <td>    0.00</td>\n",
       "</tr>\n",
       "<tr>\n",
       "  <th>Kurtosis:</th>      <td> 8.173</td>  <th>  Cond. No.          </th> <td>    174.</td>\n",
       "</tr>\n",
       "</table><br/><br/>Notes:<br/>[1] Standard Errors assume that the covariance matrix of the errors is correctly specified."
      ],
      "text/plain": [
       "<class 'statsmodels.iolib.summary.Summary'>\n",
       "\"\"\"\n",
       "                            OLS Regression Results                            \n",
       "==============================================================================\n",
       "Dep. Variable:              Extremism   R-squared:                       0.128\n",
       "Model:                            OLS   Adj. R-squared:                  0.126\n",
       "Method:                 Least Squares   F-statistic:                     70.65\n",
       "Date:                Sat, 20 Nov 2021   Prob (F-statistic):           1.24e-42\n",
       "Time:                        20:38:52   Log-Likelihood:                -2381.7\n",
       "No. Observations:                1448   AIC:                             4771.\n",
       "Df Residuals:                    1444   BIC:                             4793.\n",
       "Df Model:                           3                                         \n",
       "Covariance Type:            nonrobust                                         \n",
       "===============================================================================================\n",
       "                                  coef    std err          t      P>|t|      [0.025      0.975]\n",
       "-----------------------------------------------------------------------------------------------\n",
       "Intercept                       1.5909      0.108     14.696      0.000       1.379       1.803\n",
       "Racism_scale                   -0.3524      0.043     -8.267      0.000      -0.436      -0.269\n",
       "Political_LeaningRight_Left    -0.0641      0.043     -1.479      0.139      -0.149       0.021\n",
       "Age                            -0.0161      0.002     -7.854      0.000      -0.020      -0.012\n",
       "==============================================================================\n",
       "Omnibus:                      614.718   Durbin-Watson:                   2.016\n",
       "Prob(Omnibus):                  0.000   Jarque-Bera (JB):             2619.407\n",
       "Skew:                           2.041   Prob(JB):                         0.00\n",
       "Kurtosis:                       8.173   Cond. No.                         174.\n",
       "==============================================================================\n",
       "\n",
       "Notes:\n",
       "[1] Standard Errors assume that the covariance matrix of the errors is correctly specified.\n",
       "\"\"\""
      ]
     },
     "execution_count": 68,
     "metadata": {},
     "output_type": "execute_result"
    }
   ],
   "source": [
    "formula = 'Extremism ~ Racism_scale + Political_LeaningRight_Left + Age'\n",
    "results = smf.ols(formula, data=combined_df).fit()\n",
    "results.summary()"
   ]
  },
  {
   "cell_type": "code",
   "execution_count": 69,
   "id": "cca7752f",
   "metadata": {},
   "outputs": [
    {
     "data": {
      "text/html": [
       "<table class=\"simpletable\">\n",
       "<caption>OLS Regression Results</caption>\n",
       "<tr>\n",
       "  <th>Dep. Variable:</th>        <td>Extremism</td>    <th>  R-squared:         </th> <td>   0.104</td>\n",
       "</tr>\n",
       "<tr>\n",
       "  <th>Model:</th>                   <td>OLS</td>       <th>  Adj. R-squared:    </th> <td>   0.101</td>\n",
       "</tr>\n",
       "<tr>\n",
       "  <th>Method:</th>             <td>Least Squares</td>  <th>  F-statistic:       </th> <td>   41.65</td>\n",
       "</tr>\n",
       "<tr>\n",
       "  <th>Date:</th>             <td>Sat, 20 Nov 2021</td> <th>  Prob (F-statistic):</th> <td>4.40e-33</td>\n",
       "</tr>\n",
       "<tr>\n",
       "  <th>Time:</th>                 <td>20:38:52</td>     <th>  Log-Likelihood:    </th> <td> -2401.7</td>\n",
       "</tr>\n",
       "<tr>\n",
       "  <th>No. Observations:</th>      <td>  1448</td>      <th>  AIC:               </th> <td>   4813.</td>\n",
       "</tr>\n",
       "<tr>\n",
       "  <th>Df Residuals:</th>          <td>  1443</td>      <th>  BIC:               </th> <td>   4840.</td>\n",
       "</tr>\n",
       "<tr>\n",
       "  <th>Df Model:</th>              <td>     4</td>      <th>                     </th>     <td> </td>   \n",
       "</tr>\n",
       "<tr>\n",
       "  <th>Covariance Type:</th>      <td>nonrobust</td>    <th>                     </th>     <td> </td>   \n",
       "</tr>\n",
       "</table>\n",
       "<table class=\"simpletable\">\n",
       "<tr>\n",
       "               <td></td>                  <th>coef</th>     <th>std err</th>      <th>t</th>      <th>P>|t|</th>  <th>[0.025</th>    <th>0.975]</th>  \n",
       "</tr>\n",
       "<tr>\n",
       "  <th>Intercept</th>                   <td>    0.8992</td> <td>    0.068</td> <td>   13.141</td> <td> 0.000</td> <td>    0.765</td> <td>    1.033</td>\n",
       "</tr>\n",
       "<tr>\n",
       "  <th>racist[T.True]</th>              <td>   -0.4209</td> <td>    0.124</td> <td>   -3.390</td> <td> 0.001</td> <td>   -0.664</td> <td>   -0.177</td>\n",
       "</tr>\n",
       "<tr>\n",
       "  <th>right[T.True]</th>               <td>    0.3356</td> <td>    0.122</td> <td>    2.744</td> <td> 0.006</td> <td>    0.096</td> <td>    0.575</td>\n",
       "</tr>\n",
       "<tr>\n",
       "  <th>Racism_scale</th>                <td>   -0.5538</td> <td>    0.065</td> <td>   -8.530</td> <td> 0.000</td> <td>   -0.681</td> <td>   -0.426</td>\n",
       "</tr>\n",
       "<tr>\n",
       "  <th>Political_LeaningRight_Left</th> <td>    0.0672</td> <td>    0.053</td> <td>    1.266</td> <td> 0.206</td> <td>   -0.037</td> <td>    0.171</td>\n",
       "</tr>\n",
       "</table>\n",
       "<table class=\"simpletable\">\n",
       "<tr>\n",
       "  <th>Omnibus:</th>       <td>610.342</td> <th>  Durbin-Watson:     </th> <td>   1.996</td>\n",
       "</tr>\n",
       "<tr>\n",
       "  <th>Prob(Omnibus):</th> <td> 0.000</td>  <th>  Jarque-Bera (JB):  </th> <td>2606.054</td>\n",
       "</tr>\n",
       "<tr>\n",
       "  <th>Skew:</th>          <td> 2.022</td>  <th>  Prob(JB):          </th> <td>    0.00</td>\n",
       "</tr>\n",
       "<tr>\n",
       "  <th>Kurtosis:</th>      <td> 8.181</td>  <th>  Cond. No.          </th> <td>    6.18</td>\n",
       "</tr>\n",
       "</table><br/><br/>Notes:<br/>[1] Standard Errors assume that the covariance matrix of the errors is correctly specified."
      ],
      "text/plain": [
       "<class 'statsmodels.iolib.summary.Summary'>\n",
       "\"\"\"\n",
       "                            OLS Regression Results                            \n",
       "==============================================================================\n",
       "Dep. Variable:              Extremism   R-squared:                       0.104\n",
       "Model:                            OLS   Adj. R-squared:                  0.101\n",
       "Method:                 Least Squares   F-statistic:                     41.65\n",
       "Date:                Sat, 20 Nov 2021   Prob (F-statistic):           4.40e-33\n",
       "Time:                        20:38:52   Log-Likelihood:                -2401.7\n",
       "No. Observations:                1448   AIC:                             4813.\n",
       "Df Residuals:                    1443   BIC:                             4840.\n",
       "Df Model:                           4                                         \n",
       "Covariance Type:            nonrobust                                         \n",
       "===============================================================================================\n",
       "                                  coef    std err          t      P>|t|      [0.025      0.975]\n",
       "-----------------------------------------------------------------------------------------------\n",
       "Intercept                       0.8992      0.068     13.141      0.000       0.765       1.033\n",
       "racist[T.True]                 -0.4209      0.124     -3.390      0.001      -0.664      -0.177\n",
       "right[T.True]                   0.3356      0.122      2.744      0.006       0.096       0.575\n",
       "Racism_scale                   -0.5538      0.065     -8.530      0.000      -0.681      -0.426\n",
       "Political_LeaningRight_Left     0.0672      0.053      1.266      0.206      -0.037       0.171\n",
       "==============================================================================\n",
       "Omnibus:                      610.342   Durbin-Watson:                   1.996\n",
       "Prob(Omnibus):                  0.000   Jarque-Bera (JB):             2606.054\n",
       "Skew:                           2.022   Prob(JB):                         0.00\n",
       "Kurtosis:                       8.181   Cond. No.                         6.18\n",
       "==============================================================================\n",
       "\n",
       "Notes:\n",
       "[1] Standard Errors assume that the covariance matrix of the errors is correctly specified.\n",
       "\"\"\""
      ]
     },
     "execution_count": 69,
     "metadata": {},
     "output_type": "execute_result"
    }
   ],
   "source": [
    "formula = 'Extremism ~ Racism_scale + racist + Political_LeaningRight_Left + right'\n",
    "results = smf.ols(formula, data=combined_df).fit()\n",
    "results.summary()"
   ]
  },
  {
   "cell_type": "markdown",
   "id": "80700f17",
   "metadata": {},
   "source": [
    "## Final Model"
   ]
  },
  {
   "cell_type": "code",
   "execution_count": 70,
   "id": "415f3e4f",
   "metadata": {},
   "outputs": [
    {
     "data": {
      "text/html": [
       "<table class=\"simpletable\">\n",
       "<caption>OLS Regression Results</caption>\n",
       "<tr>\n",
       "  <th>Dep. Variable:</th>        <td>Extremism</td>    <th>  R-squared:         </th> <td>   0.168</td>\n",
       "</tr>\n",
       "<tr>\n",
       "  <th>Model:</th>                   <td>OLS</td>       <th>  Adj. R-squared:    </th> <td>   0.165</td>\n",
       "</tr>\n",
       "<tr>\n",
       "  <th>Method:</th>             <td>Least Squares</td>  <th>  F-statistic:       </th> <td>   58.38</td>\n",
       "</tr>\n",
       "<tr>\n",
       "  <th>Date:</th>             <td>Sat, 20 Nov 2021</td> <th>  Prob (F-statistic):</th> <td>1.94e-55</td>\n",
       "</tr>\n",
       "<tr>\n",
       "  <th>Time:</th>                 <td>20:38:52</td>     <th>  Log-Likelihood:    </th> <td> -2347.4</td>\n",
       "</tr>\n",
       "<tr>\n",
       "  <th>No. Observations:</th>      <td>  1448</td>      <th>  AIC:               </th> <td>   4707.</td>\n",
       "</tr>\n",
       "<tr>\n",
       "  <th>Df Residuals:</th>          <td>  1442</td>      <th>  BIC:               </th> <td>   4738.</td>\n",
       "</tr>\n",
       "<tr>\n",
       "  <th>Df Model:</th>              <td>     5</td>      <th>                     </th>     <td> </td>   \n",
       "</tr>\n",
       "<tr>\n",
       "  <th>Covariance Type:</th>      <td>nonrobust</td>    <th>                     </th>     <td> </td>   \n",
       "</tr>\n",
       "</table>\n",
       "<table class=\"simpletable\">\n",
       "<tr>\n",
       "         <td></td>           <th>coef</th>     <th>std err</th>      <th>t</th>      <th>P>|t|</th>  <th>[0.025</th>    <th>0.975]</th>  \n",
       "</tr>\n",
       "<tr>\n",
       "  <th>Intercept</th>      <td>    1.8181</td> <td>    0.117</td> <td>   15.584</td> <td> 0.000</td> <td>    1.589</td> <td>    2.047</td>\n",
       "</tr>\n",
       "<tr>\n",
       "  <th>racist[T.True]</th> <td>   -0.4364</td> <td>    0.119</td> <td>   -3.675</td> <td> 0.000</td> <td>   -0.669</td> <td>   -0.203</td>\n",
       "</tr>\n",
       "<tr>\n",
       "  <th>right[T.True]</th>  <td>    0.3084</td> <td>    0.097</td> <td>    3.167</td> <td> 0.002</td> <td>    0.117</td> <td>    0.499</td>\n",
       "</tr>\n",
       "<tr>\n",
       "  <th>Racism_scale</th>   <td>   -0.4831</td> <td>    0.061</td> <td>   -7.884</td> <td> 0.000</td> <td>   -0.603</td> <td>   -0.363</td>\n",
       "</tr>\n",
       "<tr>\n",
       "  <th>Age</th>            <td>   -0.0147</td> <td>    0.002</td> <td>   -7.319</td> <td> 0.000</td> <td>   -0.019</td> <td>   -0.011</td>\n",
       "</tr>\n",
       "<tr>\n",
       "  <th>Gender</th>         <td>   -0.4584</td> <td>    0.068</td> <td>   -6.717</td> <td> 0.000</td> <td>   -0.592</td> <td>   -0.325</td>\n",
       "</tr>\n",
       "</table>\n",
       "<table class=\"simpletable\">\n",
       "<tr>\n",
       "  <th>Omnibus:</th>       <td>591.785</td> <th>  Durbin-Watson:     </th> <td>   2.034</td>\n",
       "</tr>\n",
       "<tr>\n",
       "  <th>Prob(Omnibus):</th> <td> 0.000</td>  <th>  Jarque-Bera (JB):  </th> <td>2494.456</td>\n",
       "</tr>\n",
       "<tr>\n",
       "  <th>Skew:</th>          <td> 1.955</td>  <th>  Prob(JB):          </th> <td>    0.00</td>\n",
       "</tr>\n",
       "<tr>\n",
       "  <th>Kurtosis:</th>      <td> 8.105</td>  <th>  Cond. No.          </th> <td>    242.</td>\n",
       "</tr>\n",
       "</table><br/><br/>Notes:<br/>[1] Standard Errors assume that the covariance matrix of the errors is correctly specified."
      ],
      "text/plain": [
       "<class 'statsmodels.iolib.summary.Summary'>\n",
       "\"\"\"\n",
       "                            OLS Regression Results                            \n",
       "==============================================================================\n",
       "Dep. Variable:              Extremism   R-squared:                       0.168\n",
       "Model:                            OLS   Adj. R-squared:                  0.165\n",
       "Method:                 Least Squares   F-statistic:                     58.38\n",
       "Date:                Sat, 20 Nov 2021   Prob (F-statistic):           1.94e-55\n",
       "Time:                        20:38:52   Log-Likelihood:                -2347.4\n",
       "No. Observations:                1448   AIC:                             4707.\n",
       "Df Residuals:                    1442   BIC:                             4738.\n",
       "Df Model:                           5                                         \n",
       "Covariance Type:            nonrobust                                         \n",
       "==================================================================================\n",
       "                     coef    std err          t      P>|t|      [0.025      0.975]\n",
       "----------------------------------------------------------------------------------\n",
       "Intercept          1.8181      0.117     15.584      0.000       1.589       2.047\n",
       "racist[T.True]    -0.4364      0.119     -3.675      0.000      -0.669      -0.203\n",
       "right[T.True]      0.3084      0.097      3.167      0.002       0.117       0.499\n",
       "Racism_scale      -0.4831      0.061     -7.884      0.000      -0.603      -0.363\n",
       "Age               -0.0147      0.002     -7.319      0.000      -0.019      -0.011\n",
       "Gender            -0.4584      0.068     -6.717      0.000      -0.592      -0.325\n",
       "==============================================================================\n",
       "Omnibus:                      591.785   Durbin-Watson:                   2.034\n",
       "Prob(Omnibus):                  0.000   Jarque-Bera (JB):             2494.456\n",
       "Skew:                           1.955   Prob(JB):                         0.00\n",
       "Kurtosis:                       8.105   Cond. No.                         242.\n",
       "==============================================================================\n",
       "\n",
       "Notes:\n",
       "[1] Standard Errors assume that the covariance matrix of the errors is correctly specified.\n",
       "\"\"\""
      ]
     },
     "execution_count": 70,
     "metadata": {},
     "output_type": "execute_result"
    }
   ],
   "source": [
    "formula = 'Extremism ~ racist + Racism_scale + right + Age + Gender'\n",
    "results = smf.ols(formula, data=combined_df).fit()\n",
    "results.summary()"
   ]
  },
  {
   "cell_type": "code",
   "execution_count": null,
   "id": "73c80658",
   "metadata": {},
   "outputs": [],
   "source": []
  }
 ],
 "metadata": {
  "kernelspec": {
   "display_name": "Python 3 (ipykernel)",
   "language": "python",
   "name": "python3"
  },
  "language_info": {
   "codemirror_mode": {
    "name": "ipython",
    "version": 3
   },
   "file_extension": ".py",
   "mimetype": "text/x-python",
   "name": "python",
   "nbconvert_exporter": "python",
   "pygments_lexer": "ipython3",
   "version": "3.11.2"
  }
 },
 "nbformat": 4,
 "nbformat_minor": 5
}
